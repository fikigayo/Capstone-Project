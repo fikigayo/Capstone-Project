{
 "cells": [
  {
   "cell_type": "code",
   "execution_count": 1,
   "metadata": {},
   "outputs": [],
   "source": [
    "import pickle"
   ]
  },
  {
   "cell_type": "code",
   "execution_count": null,
   "metadata": {},
   "outputs": [],
   "source": [
    "# Load model\n",
    "with open('CLV VotingRegressor Estimator.sav', 'rb') as file:\n",
    "    loaded_model = pickle.load(file)\n",
    "\n",
    "print(\"Model berhasil dimuat.\")"
   ]
  },
  {
   "cell_type": "code",
   "execution_count": null,
   "metadata": {},
   "outputs": [],
   "source": [
    "# np.sqrt(mean_squared_error(y_test, loaded_model.predict(X_test)))"
   ]
  },
  {
   "cell_type": "code",
   "execution_count": null,
   "metadata": {},
   "outputs": [],
   "source": [
    "import pandas as pd\n",
    "from IPython.display import display\n",
    "\n",
    "# Set future option for pandas to handle downcasting warnings\n",
    "pd.set_option('future.no_silent_downcasting', True)\n",
    "\n",
    "# Load DataFrame from CSV\n",
    "loaded_df = pd.read_csv(\"CLV Dataframe.csv\")\n",
    "\n",
    "# Define input prompts for each feature\n",
    "feature_prompts = {\n",
    "    \"Vehicle Class\": {\"1\": \"Four-Door Car\",\"2\": \"Two-Door Car\",\"3\": \"SUV\",\"4\": \"Sports Car\",\"5\": \"Luxury SUV\",\"6\": \"Luxury Car\"},\n",
    "    \"Coverage\": {\"1\": \"Basic\",\"2\": \"Extended\",\"3\": \"Premium\"},\n",
    "    \"Renew Offer Type\": {\"1\": \"Offer1\",\"2\": \"Offer2\",\"3\": \"Offer3\",\"4\": \"Offer4\"},\n",
    "    \"EmploymentStatus\": {\"1\": \"Employed\",\"2\": \"Unemployed\",\"3\": \"Medical Leave\",\"4\": \"Disabled\",\"5\": \"Retired\"},\n",
    "    \"Marital Status\": {\"1\": \"Single\",\"2\": \"Married\",\"3\": \"Divorced\"},\n",
    "    \"Education\": {\"1\": \"High School or Below\",\"2\": \"College\",\"3\": \"Bachelor\",\"4\": \"Master\",\"5\": \"Doctor\"},\n",
    "    \"Number of Policies\": \"numeric\",\n",
    "    \"Monthly Premium Auto\": \"numeric\",\n",
    "    \"Total Claim Amount\": \"numeric\",\n",
    "    \"Income\": \"numeric\"\n",
    "}\n",
    "\n",
    "def get_input(prompt, is_numeric=False, min_val=None, max_val=None):\n",
    "    \"\"\"Get user input based on prompt, and check for numeric ranges if required.\"\"\"\n",
    "    if is_numeric:\n",
    "        while True:\n",
    "            try:\n",
    "                value = float(input(prompt))\n",
    "                if min_val is not None and max_val is not None and not (min_val <= value <= max_val):\n",
    "                    raise ValueError\n",
    "                return value\n",
    "            except ValueError:\n",
    "                print(f\"Invalid input, please enter a number between {min_val} and {max_val}.\")\n",
    "    else:\n",
    "        # print(f\"Select {prompt}:\")\n",
    "        # for key, value in feature_prompts[prompt].items():\n",
    "        #     print(f\"{key}. {value}\")\n",
    "        while True:\n",
    "            options_list = \"\\n\".join([f\"{key}. {value}\" for key, value in feature_prompts[prompt].items()])\n",
    "            choice = input(f\"\\nSelect {prompt} (1-{len(feature_prompts[prompt])}): \\n{options_list}\\n\\nYour Choice : \")\n",
    "            if choice in feature_prompts[prompt]:\n",
    "                return feature_prompts[prompt][choice]\n",
    "            else:\n",
    "                print(\"Invalid choice, please try again.\")\n",
    "\n",
    "if __name__ == \"__main__\":\n",
    "    selections = {}\n",
    "    \n",
    "    for feature, options in feature_prompts.items():\n",
    "        if options == \"numeric\":\n",
    "            min_val = loaded_df[feature].min()\n",
    "            max_val = loaded_df[feature].max()\n",
    "            selections[feature] = get_input(f\"\\nEnter {feature} ({min_val}-{max_val}): \", is_numeric=True, min_val=min_val, max_val=max_val)\n",
    "        else:\n",
    "            selections[feature] = get_input(feature)\n",
    "\n",
    "    # Convert selections to DataFrame\n",
    "    selections_df = pd.DataFrame(selections.items(), columns=[\"Feature\", \"Choice\"])\n",
    "    \n",
    "    # Display the summary of selections as DataFrame\n",
    "    print(\"\\nSummary of your selections:\")\n",
    "    display(selections_df)  # Use display() in Jupyter Notebook\n",
    "\n",
    "    # Prepare customer input for prediction\n",
    "    customer_df = pd.DataFrame([selections])\n",
    "\n",
    "    # Make prediction\n",
    "    clv_prediction = loaded_model.predict(customer_df)\n",
    "    print(f\"\\nCLV Prediction : {clv_prediction[0]}\")\n"
   ]
  }
 ],
 "metadata": {
  "kernelspec": {
   "display_name": "Python 3",
   "language": "python",
   "name": "python3"
  },
  "language_info": {
   "codemirror_mode": {
    "name": "ipython",
    "version": 3
   },
   "file_extension": ".py",
   "mimetype": "text/x-python",
   "name": "python",
   "nbconvert_exporter": "python",
   "pygments_lexer": "ipython3",
   "version": "3.12.2"
  }
 },
 "nbformat": 4,
 "nbformat_minor": 2
}
